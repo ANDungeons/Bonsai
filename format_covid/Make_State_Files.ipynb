{
 "cells": [
  {
   "cell_type": "code",
   "execution_count": null,
   "metadata": {},
   "outputs": [],
   "source": [
    "# Import libraries\n",
    "import pandas\n",
    "import numpy\n",
    "import matplotlib as mpl\n",
    "import matplotlib.pyplot as plt\n",
    "from IPython.display import display"
   ]
  },
  {
   "cell_type": "markdown",
   "metadata": {},
   "source": [
    "## Basic Variables"
   ]
  },
  {
   "cell_type": "code",
   "execution_count": null,
   "metadata": {},
   "outputs": [],
   "source": [
    "data_repo_loc = '../COVID-19'\n",
    "case_data_loc = f'{data_repo_loc}/csse_covid_19_data'\n",
    "report_loc = f'{case_data_loc}/csse_covid_19_daily_reports'\n",
    "\n",
    "months = {1:[22,31], 2:[1,29], 3:[1,31]}\n",
    "\n",
    "states_analyzed = {'NY':'New York', 'NJ':'New Jersey', 'PA':'Pennsylvania', 'MA':'Massachusetts', 'CA':'California', 'OR':'Oregon', 'WA':'Washington', 'TX' : 'Texas', 'CO' : 'Colorado'}"
   ]
  },
  {
   "cell_type": "markdown",
   "metadata": {},
   "source": [
    "## Accessing Basic Data"
   ]
  },
  {
   "cell_type": "code",
   "execution_count": null,
   "metadata": {},
   "outputs": [],
   "source": [
    "def import_data(skip_months=[]):\n",
    "    \"\"\"High level pre-processing of data from the John Hopkins repo\"\"\"\n",
    "    df_list = []\n",
    "    \n",
    "    # Read in each file, looping over the month and days as they are the file names\n",
    "    for month in months:\n",
    "        # Some months may be skipped for simple data reduction\n",
    "        if month in skip_months:\n",
    "            continue\n",
    "\n",
    "        # Create a string of the month for the file name\n",
    "        if month < 10:\n",
    "            m_str = f'0{month}'\n",
    "        else:\n",
    "            m_str = str(month)\n",
    "            \n",
    "        for day in range(months[month][0], months[month][1]+1):\n",
    "            \n",
    "            # Create a string of the month for the file name\n",
    "            if day < 10:\n",
    "                d_str = f'0{day}'\n",
    "            else:\n",
    "                d_str = str(day)\n",
    "            \n",
    "            # Read in the day's file\n",
    "            file = f'{m_str}-{d_str}-2020.csv'\n",
    "            df_day = pandas.read_csv(f'{report_loc}/{file}')\n",
    "\n",
    "            # Ensure the same headers for all DFs\n",
    "            columns = df_day.columns\n",
    "            renames ={}\n",
    "            if 'Country_Region' in columns:\n",
    "                renames['Country_Region'] = 'Country/Region'\n",
    "            if 'Province_State' in columns:\n",
    "                renames['Province_State'] = 'Province/State'\n",
    "            if 'Last_Update' in columns:\n",
    "                renames['Last_Update'] = 'Last Update'\n",
    "            if 'Long_' in columns:\n",
    "                renames['Long_'] = 'Longitude'\n",
    "            if 'Lat' in columns:\n",
    "                renames['Lat'] = 'Latitude'\n",
    "            if len(renames) > 0:\n",
    "                df_day.rename(columns=renames, inplace=True)\n",
    "                \n",
    "            # Convert the date into a \"day of the year\" number and add as a column\n",
    "            ytd = 0\n",
    "            for m in range(1, month):\n",
    "                ytd += months[m][1]\n",
    "            ytd += day\n",
    "            \n",
    "            # Actually, use the date string instead\n",
    "            df_day['Day'] = f'{m_str}-{d_str}'\n",
    "            \n",
    "            # Add the edited day DF to the list of all of them, to be merged\n",
    "            df_list.append(df_day)\n",
    "    \n",
    "    # Merge all the DFs into one\n",
    "    df_all = pandas.concat(df_list)\n",
    "    \n",
    "    # Remove unneeded columns\n",
    "    df_all.drop(['Last Update', 'Latitude', 'Longitude', 'Combined_Key', 'FIPS'], axis=1, inplace=True)\n",
    "    \n",
    "    # Move to new default sorting\n",
    "    #df_all.sort_values(by=['Country/Region', 'Province/State', 'Day', 'Admin2'], inplace=True)\n",
    "    \n",
    "    return df_all\n",
    "\n",
    "def sort_usa_data(df_all):\n",
    "    \"\"\"Get USA data, and separate out counties/cities from states for old data\"\"\"\n",
    "    \n",
    "    # Grab just the USA\n",
    "    df_usa = df_all[df_all['Country/Region'] == 'US']\n",
    "    \n",
    "    # Remove 'Province/' from column name, as well as the Country column\n",
    "    df_usa.rename(columns={'Province/State':'State'}, inplace=True)\n",
    "    df_usa.drop(['Country/Region'], axis=1, inplace=True)\n",
    "    \n",
    "    df_usa.reset_index(inplace=True)\n",
    "    \n",
    "    # Need to split out the county and state since older data combined the two\n",
    "    for index, row in df_usa.iterrows():\n",
    "        if ',' in row['State']:\n",
    "            cnty, st = row['State'].split(', ')\n",
    "            df_usa.at[index,'Admin2'] = cnty\n",
    "            if st in states_analyzed.keys():\n",
    "                st = states_analyzed[st]\n",
    "            df_usa.at[index,'State'] = st\n",
    "    \n",
    "    # Sort the data and export\n",
    "    df_usa.sort_values(by=[ 'Day', 'State', 'Admin2'], inplace=True)\n",
    "    df_usa.to_csv('USA.csv')\n",
    "    \n",
    "    return df_usa\n",
    "\n",
    "def sum_state(df_usa, state):\n",
    "    \"\"\"Collapse data down for each state\"\"\"\n",
    "    # Grab the data for the individual state\n",
    "    print(f'Separating and summing {state}')\n",
    "    df_state = df_usa[df_usa['State'] == state]\n",
    "    df_state.to_csv(f'{state}.csv')\n",
    "\n",
    "    # Sum the data into singular sets for each day, ignoring counties\n",
    "    days = df_state.groupby('Day', axis=0).sum()\n",
    "    \n",
    "    # Calculate number of active cases and fatility rate, and add them\n",
    "    active = []\n",
    "    fatality_rate = []\n",
    "    for i, row in days.iterrows():\n",
    "        active.append(row['Confirmed'] - row['Deaths'] - row['Recovered'])\n",
    "        fatality_rate.append(row['Deaths']/row['Confirmed'])\n",
    "    days['Active'] = active\n",
    "    days['Fatality Rate'] = fatality_rate\n",
    "    \n",
    "    return days\n",
    "\n",
    "def get_state_data(df_usa, states=states_analyzed.values(), data='Confirmed'):\n",
    "    \"\"\"Get a type of data for each state requested\"\"\"\n",
    "    df_states = pandas.DataFrame()\n",
    "\n",
    "    for state in states:\n",
    "        df_state = sum_state(df_usa, state)\n",
    "        df_states[state] = df_state[data]\n",
    "    return df_states"
   ]
  },
  {
   "cell_type": "markdown",
   "metadata": {},
   "source": [
    "## Get The Basic USA Data"
   ]
  },
  {
   "cell_type": "code",
   "execution_count": null,
   "metadata": {},
   "outputs": [],
   "source": [
    "df_all = import_data(skip_months=[1])\n",
    "df_usa = sort_usa_data(df_all)"
   ]
  },
  {
   "cell_type": "markdown",
   "metadata": {},
   "source": [
    "## Graph the numbers and rates for select states"
   ]
  },
  {
   "cell_type": "code",
   "execution_count": null,
   "metadata": {},
   "outputs": [],
   "source": [
    "for data in ['Confirmed', 'Deaths', 'Recovered', 'Active', 'Fatality Rate']:\n",
    "    df_cases = get_state_data(df_usa, data=data)\n",
    "    df_cases.to_csv(f'covid-states-{data.lower()}.csv')\n",
    "    for scale in ['linear', 'log']:\n",
    "        df_cases.plot(kind='line', figsize=(20,10))\n",
    "        \n",
    "        plt.title(f'COVID-19 {data} By Select States')\n",
    "        plt.yscale(scale)\n",
    "        \n",
    "        plt.ylabel(data)\n",
    "        plt.xlabel('Day')\n",
    "        \n",
    "        plt.savefig(f'covid-{data}-({scale}).png')\n",
    "        plt.show()\n"
   ]
  },
  {
   "cell_type": "code",
   "execution_count": null,
   "metadata": {},
   "outputs": [],
   "source": []
  }
 ],
 "metadata": {
  "kernelspec": {
   "display_name": "Python 3",
   "language": "python",
   "name": "python3"
  },
  "language_info": {
   "codemirror_mode": {
    "name": "ipython",
    "version": 3
   },
   "file_extension": ".py",
   "mimetype": "text/x-python",
   "name": "python",
   "nbconvert_exporter": "python",
   "pygments_lexer": "ipython3",
   "version": "3.7.6"
  }
 },
 "nbformat": 4,
 "nbformat_minor": 4
}
